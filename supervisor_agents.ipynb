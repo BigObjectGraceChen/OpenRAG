{
 "cells": [
  {
   "cell_type": "markdown",
   "metadata": {},
   "source": [
    "# **Setup**\n",
    "讀取環境變數、初始化語言模型（LLM）"
   ]
  },
  {
   "cell_type": "code",
   "execution_count": 1,
   "metadata": {},
   "outputs": [
    {
     "name": "stdout",
     "output_type": "stream",
     "text": [
      "Collecting dotenv\n",
      "  Using cached dotenv-0.9.9-py2.py3-none-any.whl.metadata (279 bytes)\n",
      "Collecting langgraph\n",
      "  Using cached langgraph-0.3.24-py3-none-any.whl.metadata (7.7 kB)\n",
      "Collecting python-dotenv (from dotenv)\n",
      "  Using cached python_dotenv-1.1.0-py3-none-any.whl.metadata (24 kB)\n",
      "Collecting langchain-core<0.4,>=0.1 (from langgraph)\n",
      "  Using cached langchain_core-0.3.50-py3-none-any.whl.metadata (5.9 kB)\n",
      "Collecting langgraph-checkpoint<3.0.0,>=2.0.10 (from langgraph)\n",
      "  Using cached langgraph_checkpoint-2.0.24-py3-none-any.whl.metadata (4.6 kB)\n",
      "Collecting langgraph-prebuilt<0.2,>=0.1.1 (from langgraph)\n",
      "  Using cached langgraph_prebuilt-0.1.7-py3-none-any.whl.metadata (5.0 kB)\n",
      "Collecting langgraph-sdk<0.2.0,>=0.1.42 (from langgraph)\n",
      "  Using cached langgraph_sdk-0.1.61-py3-none-any.whl.metadata (1.8 kB)\n",
      "Collecting xxhash<4.0.0,>=3.5.0 (from langgraph)\n",
      "  Using cached xxhash-3.5.0-cp313-cp313-macosx_11_0_arm64.whl.metadata (12 kB)\n",
      "Collecting langsmith<0.4,>=0.1.125 (from langchain-core<0.4,>=0.1->langgraph)\n",
      "  Using cached langsmith-0.3.23-py3-none-any.whl.metadata (15 kB)\n",
      "Collecting tenacity!=8.4.0,<10.0.0,>=8.1.0 (from langchain-core<0.4,>=0.1->langgraph)\n",
      "  Using cached tenacity-9.1.2-py3-none-any.whl.metadata (1.2 kB)\n",
      "Collecting jsonpatch<2.0,>=1.33 (from langchain-core<0.4,>=0.1->langgraph)\n",
      "  Using cached jsonpatch-1.33-py2.py3-none-any.whl.metadata (3.0 kB)\n",
      "Collecting PyYAML>=5.3 (from langchain-core<0.4,>=0.1->langgraph)\n",
      "  Using cached PyYAML-6.0.2-cp313-cp313-macosx_11_0_arm64.whl.metadata (2.1 kB)\n",
      "Requirement already satisfied: packaging<25,>=23.2 in ./.venv/lib/python3.13/site-packages (from langchain-core<0.4,>=0.1->langgraph) (24.2)\n",
      "Collecting typing-extensions>=4.7 (from langchain-core<0.4,>=0.1->langgraph)\n",
      "  Using cached typing_extensions-4.13.0-py3-none-any.whl.metadata (3.0 kB)\n",
      "Collecting pydantic<3.0.0,>=2.7.4 (from langchain-core<0.4,>=0.1->langgraph)\n",
      "  Downloading pydantic-2.11.2-py3-none-any.whl.metadata (64 kB)\n",
      "Collecting ormsgpack<2.0.0,>=1.8.0 (from langgraph-checkpoint<3.0.0,>=2.0.10->langgraph)\n",
      "  Using cached ormsgpack-1.9.1-cp313-cp313-macosx_10_12_x86_64.macosx_11_0_arm64.macosx_10_12_universal2.whl.metadata (43 kB)\n",
      "Collecting httpx>=0.25.2 (from langgraph-sdk<0.2.0,>=0.1.42->langgraph)\n",
      "  Using cached httpx-0.28.1-py3-none-any.whl.metadata (7.1 kB)\n",
      "Collecting orjson>=3.10.1 (from langgraph-sdk<0.2.0,>=0.1.42->langgraph)\n",
      "  Using cached orjson-3.10.16-cp313-cp313-macosx_15_0_arm64.whl.metadata (41 kB)\n",
      "Collecting anyio (from httpx>=0.25.2->langgraph-sdk<0.2.0,>=0.1.42->langgraph)\n",
      "  Using cached anyio-4.9.0-py3-none-any.whl.metadata (4.7 kB)\n",
      "Collecting certifi (from httpx>=0.25.2->langgraph-sdk<0.2.0,>=0.1.42->langgraph)\n",
      "  Using cached certifi-2025.1.31-py3-none-any.whl.metadata (2.5 kB)\n",
      "Collecting httpcore==1.* (from httpx>=0.25.2->langgraph-sdk<0.2.0,>=0.1.42->langgraph)\n",
      "  Using cached httpcore-1.0.7-py3-none-any.whl.metadata (21 kB)\n",
      "Collecting idna (from httpx>=0.25.2->langgraph-sdk<0.2.0,>=0.1.42->langgraph)\n",
      "  Using cached idna-3.10-py3-none-any.whl.metadata (10 kB)\n",
      "Collecting h11<0.15,>=0.13 (from httpcore==1.*->httpx>=0.25.2->langgraph-sdk<0.2.0,>=0.1.42->langgraph)\n",
      "  Using cached h11-0.14.0-py3-none-any.whl.metadata (8.2 kB)\n",
      "Collecting jsonpointer>=1.9 (from jsonpatch<2.0,>=1.33->langchain-core<0.4,>=0.1->langgraph)\n",
      "  Using cached jsonpointer-3.0.0-py2.py3-none-any.whl.metadata (2.3 kB)\n",
      "Collecting requests<3,>=2 (from langsmith<0.4,>=0.1.125->langchain-core<0.4,>=0.1->langgraph)\n",
      "  Using cached requests-2.32.3-py3-none-any.whl.metadata (4.6 kB)\n",
      "Collecting requests-toolbelt<2.0.0,>=1.0.0 (from langsmith<0.4,>=0.1.125->langchain-core<0.4,>=0.1->langgraph)\n",
      "  Using cached requests_toolbelt-1.0.0-py2.py3-none-any.whl.metadata (14 kB)\n",
      "Collecting zstandard<0.24.0,>=0.23.0 (from langsmith<0.4,>=0.1.125->langchain-core<0.4,>=0.1->langgraph)\n",
      "  Using cached zstandard-0.23.0-cp313-cp313-macosx_11_0_arm64.whl.metadata (3.0 kB)\n",
      "Collecting annotated-types>=0.6.0 (from pydantic<3.0.0,>=2.7.4->langchain-core<0.4,>=0.1->langgraph)\n",
      "  Using cached annotated_types-0.7.0-py3-none-any.whl.metadata (15 kB)\n",
      "Collecting pydantic-core==2.33.1 (from pydantic<3.0.0,>=2.7.4->langchain-core<0.4,>=0.1->langgraph)\n",
      "  Downloading pydantic_core-2.33.1-cp313-cp313-macosx_11_0_arm64.whl.metadata (6.8 kB)\n",
      "Collecting typing-inspection>=0.4.0 (from pydantic<3.0.0,>=2.7.4->langchain-core<0.4,>=0.1->langgraph)\n",
      "  Using cached typing_inspection-0.4.0-py3-none-any.whl.metadata (2.6 kB)\n",
      "Collecting charset-normalizer<4,>=2 (from requests<3,>=2->langsmith<0.4,>=0.1.125->langchain-core<0.4,>=0.1->langgraph)\n",
      "  Using cached charset_normalizer-3.4.1-cp313-cp313-macosx_10_13_universal2.whl.metadata (35 kB)\n",
      "Collecting urllib3<3,>=1.21.1 (from requests<3,>=2->langsmith<0.4,>=0.1.125->langchain-core<0.4,>=0.1->langgraph)\n",
      "  Using cached urllib3-2.3.0-py3-none-any.whl.metadata (6.5 kB)\n",
      "Collecting sniffio>=1.1 (from anyio->httpx>=0.25.2->langgraph-sdk<0.2.0,>=0.1.42->langgraph)\n",
      "  Using cached sniffio-1.3.1-py3-none-any.whl.metadata (3.9 kB)\n",
      "Using cached dotenv-0.9.9-py2.py3-none-any.whl (1.9 kB)\n",
      "Using cached langgraph-0.3.24-py3-none-any.whl (140 kB)\n",
      "Using cached langchain_core-0.3.50-py3-none-any.whl (423 kB)\n",
      "Using cached langgraph_checkpoint-2.0.24-py3-none-any.whl (42 kB)\n",
      "Using cached langgraph_prebuilt-0.1.7-py3-none-any.whl (25 kB)\n",
      "Using cached langgraph_sdk-0.1.61-py3-none-any.whl (47 kB)\n",
      "Using cached xxhash-3.5.0-cp313-cp313-macosx_11_0_arm64.whl (30 kB)\n",
      "Using cached python_dotenv-1.1.0-py3-none-any.whl (20 kB)\n",
      "Using cached httpx-0.28.1-py3-none-any.whl (73 kB)\n",
      "Using cached httpcore-1.0.7-py3-none-any.whl (78 kB)\n",
      "Using cached jsonpatch-1.33-py2.py3-none-any.whl (12 kB)\n",
      "Using cached langsmith-0.3.23-py3-none-any.whl (352 kB)\n",
      "Using cached orjson-3.10.16-cp313-cp313-macosx_15_0_arm64.whl (133 kB)\n",
      "Using cached ormsgpack-1.9.1-cp313-cp313-macosx_10_12_x86_64.macosx_11_0_arm64.macosx_10_12_universal2.whl (383 kB)\n",
      "Downloading pydantic-2.11.2-py3-none-any.whl (443 kB)\n",
      "Downloading pydantic_core-2.33.1-cp313-cp313-macosx_11_0_arm64.whl (1.9 MB)\n",
      "\u001b[2K   \u001b[90m━━━━━━━━━━━━━━━━━━━━━━━━━━━━━━━━━━━━━━━━\u001b[0m \u001b[32m1.9/1.9 MB\u001b[0m \u001b[31m3.1 MB/s\u001b[0m eta \u001b[36m0:00:00\u001b[0ma \u001b[36m0:00:01\u001b[0m\n",
      "\u001b[?25hUsing cached PyYAML-6.0.2-cp313-cp313-macosx_11_0_arm64.whl (171 kB)\n",
      "Using cached tenacity-9.1.2-py3-none-any.whl (28 kB)\n",
      "Using cached typing_extensions-4.13.0-py3-none-any.whl (45 kB)\n",
      "Using cached annotated_types-0.7.0-py3-none-any.whl (13 kB)\n",
      "Using cached jsonpointer-3.0.0-py2.py3-none-any.whl (7.6 kB)\n",
      "Using cached requests-2.32.3-py3-none-any.whl (64 kB)\n",
      "Using cached certifi-2025.1.31-py3-none-any.whl (166 kB)\n",
      "Using cached idna-3.10-py3-none-any.whl (70 kB)\n",
      "Using cached requests_toolbelt-1.0.0-py2.py3-none-any.whl (54 kB)\n",
      "Using cached typing_inspection-0.4.0-py3-none-any.whl (14 kB)\n",
      "Using cached zstandard-0.23.0-cp313-cp313-macosx_11_0_arm64.whl (633 kB)\n",
      "Using cached anyio-4.9.0-py3-none-any.whl (100 kB)\n",
      "Using cached charset_normalizer-3.4.1-cp313-cp313-macosx_10_13_universal2.whl (195 kB)\n",
      "Using cached h11-0.14.0-py3-none-any.whl (58 kB)\n",
      "Using cached sniffio-1.3.1-py3-none-any.whl (10 kB)\n",
      "Using cached urllib3-2.3.0-py3-none-any.whl (128 kB)\n",
      "Installing collected packages: zstandard, xxhash, urllib3, typing-extensions, tenacity, sniffio, PyYAML, python-dotenv, ormsgpack, orjson, jsonpointer, idna, h11, charset-normalizer, certifi, annotated-types, typing-inspection, requests, pydantic-core, jsonpatch, httpcore, dotenv, anyio, requests-toolbelt, pydantic, httpx, langsmith, langgraph-sdk, langchain-core, langgraph-checkpoint, langgraph-prebuilt, langgraph\n",
      "Successfully installed PyYAML-6.0.2 annotated-types-0.7.0 anyio-4.9.0 certifi-2025.1.31 charset-normalizer-3.4.1 dotenv-0.9.9 h11-0.14.0 httpcore-1.0.7 httpx-0.28.1 idna-3.10 jsonpatch-1.33 jsonpointer-3.0.0 langchain-core-0.3.50 langgraph-0.3.24 langgraph-checkpoint-2.0.24 langgraph-prebuilt-0.1.7 langgraph-sdk-0.1.61 langsmith-0.3.23 orjson-3.10.16 ormsgpack-1.9.1 pydantic-2.11.2 pydantic-core-2.33.1 python-dotenv-1.1.0 requests-2.32.3 requests-toolbelt-1.0.0 sniffio-1.3.1 tenacity-9.1.2 typing-extensions-4.13.0 typing-inspection-0.4.0 urllib3-2.3.0 xxhash-3.5.0 zstandard-0.23.0\n"
     ]
    }
   ],
   "source": [
    "! pip install dotenv langgraph"
   ]
  },
  {
   "cell_type": "code",
   "execution_count": 2,
   "metadata": {},
   "outputs": [],
   "source": [
    "from langgraph.graph import MessagesState\n",
    "from langchain_core.messages import HumanMessage\n",
    "from langchain_core.messages import SystemMessage\n",
    "import requests\n",
    "from langgraph.graph import StateGraph\n",
    "from langgraph.graph import START, END\n",
    "\n",
    "from langgraph.prebuilt import tools_condition \n",
    "from langgraph.prebuilt import ToolNode\n",
    "from IPython.display import Image, display"
   ]
  },
  {
   "cell_type": "code",
   "execution_count": 3,
   "metadata": {},
   "outputs": [],
   "source": [
    "import os\n",
    "\n",
    "if \"COLAB_GPU\" in os.environ:\n",
    "    from google.colab import userdata\n",
    "    from google.colab.userdata import SecretNotFoundError\n",
    "\n",
    "    def get_secret(key, default=''):\n",
    "        try:\n",
    "            return userdata.get(key)\n",
    "        except SecretNotFoundError:  # 捕獲密鑰不存在的錯誤\n",
    "            return default\n",
    "\n",
    "    os.environ[\"OPENAI_API_KEY\"] = get_secret('OPENAI_API_KEY', '')\n",
    "    os.environ[\"GOOGLE_API_KEY\"] = get_secret('GOOGLE_API_KEY', '')\n",
    "    os.environ[\"ANTHROPIC_API_KEY\"] = get_secret('ANTHROPIC_API_KEY', '')\n",
    "    os.environ[\"ARALIA_ENDPOINT\"] = get_secret('ARALIA_ENDPOINT', '')\n",
    "    os.environ[\"ARALIA_TOKEN\"] = get_secret('ARALIA_TOKEN', '')\n",
    "else:\n",
    "    from dotenv import load_dotenv\n",
    "    load_dotenv()\n"
   ]
  },
  {
   "cell_type": "markdown",
   "metadata": {},
   "source": [
    "### 使用OpenAI模型\n",
    "* OpenAI / Gemini / Claude擇一\n",
    "* 環境變數需有OPENAI_API_KEY"
   ]
  },
  {
   "cell_type": "code",
   "execution_count": 4,
   "metadata": {},
   "outputs": [
    {
     "name": "stdout",
     "output_type": "stream",
     "text": [
      "Collecting langchain_openai\n",
      "  Using cached langchain_openai-0.3.12-py3-none-any.whl.metadata (2.3 kB)\n",
      "Requirement already satisfied: langchain-core<1.0.0,>=0.3.49 in ./.venv/lib/python3.13/site-packages (from langchain_openai) (0.3.50)\n",
      "Collecting openai<2.0.0,>=1.68.2 (from langchain_openai)\n",
      "  Using cached openai-1.70.0-py3-none-any.whl.metadata (25 kB)\n",
      "Collecting tiktoken<1,>=0.7 (from langchain_openai)\n",
      "  Using cached tiktoken-0.9.0-cp313-cp313-macosx_11_0_arm64.whl.metadata (6.7 kB)\n",
      "Requirement already satisfied: langsmith<0.4,>=0.1.125 in ./.venv/lib/python3.13/site-packages (from langchain-core<1.0.0,>=0.3.49->langchain_openai) (0.3.23)\n",
      "Requirement already satisfied: tenacity!=8.4.0,<10.0.0,>=8.1.0 in ./.venv/lib/python3.13/site-packages (from langchain-core<1.0.0,>=0.3.49->langchain_openai) (9.1.2)\n",
      "Requirement already satisfied: jsonpatch<2.0,>=1.33 in ./.venv/lib/python3.13/site-packages (from langchain-core<1.0.0,>=0.3.49->langchain_openai) (1.33)\n",
      "Requirement already satisfied: PyYAML>=5.3 in ./.venv/lib/python3.13/site-packages (from langchain-core<1.0.0,>=0.3.49->langchain_openai) (6.0.2)\n",
      "Requirement already satisfied: packaging<25,>=23.2 in ./.venv/lib/python3.13/site-packages (from langchain-core<1.0.0,>=0.3.49->langchain_openai) (24.2)\n",
      "Requirement already satisfied: typing-extensions>=4.7 in ./.venv/lib/python3.13/site-packages (from langchain-core<1.0.0,>=0.3.49->langchain_openai) (4.13.0)\n",
      "Requirement already satisfied: pydantic<3.0.0,>=2.7.4 in ./.venv/lib/python3.13/site-packages (from langchain-core<1.0.0,>=0.3.49->langchain_openai) (2.11.2)\n",
      "Requirement already satisfied: anyio<5,>=3.5.0 in ./.venv/lib/python3.13/site-packages (from openai<2.0.0,>=1.68.2->langchain_openai) (4.9.0)\n",
      "Collecting distro<2,>=1.7.0 (from openai<2.0.0,>=1.68.2->langchain_openai)\n",
      "  Using cached distro-1.9.0-py3-none-any.whl.metadata (6.8 kB)\n",
      "Requirement already satisfied: httpx<1,>=0.23.0 in ./.venv/lib/python3.13/site-packages (from openai<2.0.0,>=1.68.2->langchain_openai) (0.28.1)\n",
      "Collecting jiter<1,>=0.4.0 (from openai<2.0.0,>=1.68.2->langchain_openai)\n",
      "  Using cached jiter-0.9.0-cp313-cp313-macosx_11_0_arm64.whl.metadata (5.2 kB)\n",
      "Requirement already satisfied: sniffio in ./.venv/lib/python3.13/site-packages (from openai<2.0.0,>=1.68.2->langchain_openai) (1.3.1)\n",
      "Collecting tqdm>4 (from openai<2.0.0,>=1.68.2->langchain_openai)\n",
      "  Using cached tqdm-4.67.1-py3-none-any.whl.metadata (57 kB)\n",
      "Collecting regex>=2022.1.18 (from tiktoken<1,>=0.7->langchain_openai)\n",
      "  Using cached regex-2024.11.6-cp313-cp313-macosx_11_0_arm64.whl.metadata (40 kB)\n",
      "Requirement already satisfied: requests>=2.26.0 in ./.venv/lib/python3.13/site-packages (from tiktoken<1,>=0.7->langchain_openai) (2.32.3)\n",
      "Requirement already satisfied: idna>=2.8 in ./.venv/lib/python3.13/site-packages (from anyio<5,>=3.5.0->openai<2.0.0,>=1.68.2->langchain_openai) (3.10)\n",
      "Requirement already satisfied: certifi in ./.venv/lib/python3.13/site-packages (from httpx<1,>=0.23.0->openai<2.0.0,>=1.68.2->langchain_openai) (2025.1.31)\n",
      "Requirement already satisfied: httpcore==1.* in ./.venv/lib/python3.13/site-packages (from httpx<1,>=0.23.0->openai<2.0.0,>=1.68.2->langchain_openai) (1.0.7)\n",
      "Requirement already satisfied: h11<0.15,>=0.13 in ./.venv/lib/python3.13/site-packages (from httpcore==1.*->httpx<1,>=0.23.0->openai<2.0.0,>=1.68.2->langchain_openai) (0.14.0)\n",
      "Requirement already satisfied: jsonpointer>=1.9 in ./.venv/lib/python3.13/site-packages (from jsonpatch<2.0,>=1.33->langchain-core<1.0.0,>=0.3.49->langchain_openai) (3.0.0)\n",
      "Requirement already satisfied: orjson<4.0.0,>=3.9.14 in ./.venv/lib/python3.13/site-packages (from langsmith<0.4,>=0.1.125->langchain-core<1.0.0,>=0.3.49->langchain_openai) (3.10.16)\n",
      "Requirement already satisfied: requests-toolbelt<2.0.0,>=1.0.0 in ./.venv/lib/python3.13/site-packages (from langsmith<0.4,>=0.1.125->langchain-core<1.0.0,>=0.3.49->langchain_openai) (1.0.0)\n",
      "Requirement already satisfied: zstandard<0.24.0,>=0.23.0 in ./.venv/lib/python3.13/site-packages (from langsmith<0.4,>=0.1.125->langchain-core<1.0.0,>=0.3.49->langchain_openai) (0.23.0)\n",
      "Requirement already satisfied: annotated-types>=0.6.0 in ./.venv/lib/python3.13/site-packages (from pydantic<3.0.0,>=2.7.4->langchain-core<1.0.0,>=0.3.49->langchain_openai) (0.7.0)\n",
      "Requirement already satisfied: pydantic-core==2.33.1 in ./.venv/lib/python3.13/site-packages (from pydantic<3.0.0,>=2.7.4->langchain-core<1.0.0,>=0.3.49->langchain_openai) (2.33.1)\n",
      "Requirement already satisfied: typing-inspection>=0.4.0 in ./.venv/lib/python3.13/site-packages (from pydantic<3.0.0,>=2.7.4->langchain-core<1.0.0,>=0.3.49->langchain_openai) (0.4.0)\n",
      "Requirement already satisfied: charset-normalizer<4,>=2 in ./.venv/lib/python3.13/site-packages (from requests>=2.26.0->tiktoken<1,>=0.7->langchain_openai) (3.4.1)\n",
      "Requirement already satisfied: urllib3<3,>=1.21.1 in ./.venv/lib/python3.13/site-packages (from requests>=2.26.0->tiktoken<1,>=0.7->langchain_openai) (2.3.0)\n",
      "Using cached langchain_openai-0.3.12-py3-none-any.whl (61 kB)\n",
      "Using cached openai-1.70.0-py3-none-any.whl (599 kB)\n",
      "Using cached tiktoken-0.9.0-cp313-cp313-macosx_11_0_arm64.whl (1.0 MB)\n",
      "Using cached distro-1.9.0-py3-none-any.whl (20 kB)\n",
      "Using cached jiter-0.9.0-cp313-cp313-macosx_11_0_arm64.whl (318 kB)\n",
      "Using cached regex-2024.11.6-cp313-cp313-macosx_11_0_arm64.whl (284 kB)\n",
      "Using cached tqdm-4.67.1-py3-none-any.whl (78 kB)\n",
      "Installing collected packages: tqdm, regex, jiter, distro, tiktoken, openai, langchain_openai\n",
      "Successfully installed distro-1.9.0 jiter-0.9.0 langchain_openai-0.3.12 openai-1.70.0 regex-2024.11.6 tiktoken-0.9.0 tqdm-4.67.1\n"
     ]
    }
   ],
   "source": [
    "! pip install langchain_openai"
   ]
  },
  {
   "cell_type": "code",
   "execution_count": 5,
   "metadata": {},
   "outputs": [],
   "source": [
    "#Initializing the language model with the OpenAI model\n",
    "from langchain_openai import ChatOpenAI\n",
    "llm = ChatOpenAI(model=\"gpt-4o-mini\")"
   ]
  },
  {
   "cell_type": "code",
   "execution_count": 6,
   "metadata": {},
   "outputs": [
    {
     "data": {
      "text/plain": [
       "AIMessage(content='Hello! How can I assist you today?', additional_kwargs={'refusal': None}, response_metadata={'token_usage': {'completion_tokens': 10, 'prompt_tokens': 8, 'total_tokens': 18, 'completion_tokens_details': {'accepted_prediction_tokens': 0, 'audio_tokens': 0, 'reasoning_tokens': 0, 'rejected_prediction_tokens': 0}, 'prompt_tokens_details': {'audio_tokens': 0, 'cached_tokens': 0}}, 'model_name': 'gpt-4o-mini-2024-07-18', 'system_fingerprint': 'fp_b376dfbbd5', 'id': 'chatcmpl-BIGukr7UlXvVcVQubL6vZF2FDrR5M', 'finish_reason': 'stop', 'logprobs': None}, id='run-b2f93e52-b66e-4279-b8c5-7019a3fd5df3-0', usage_metadata={'input_tokens': 8, 'output_tokens': 10, 'total_tokens': 18, 'input_token_details': {'audio': 0, 'cache_read': 0}, 'output_token_details': {'audio': 0, 'reasoning': 0}})"
      ]
     },
     "execution_count": 6,
     "metadata": {},
     "output_type": "execute_result"
    }
   ],
   "source": [
    "llm.invoke([HumanMessage(content=\"hi\")])"
   ]
  },
  {
   "cell_type": "markdown",
   "metadata": {},
   "source": [
    "### 使用Google Gemini模型\n",
    "* OpenAI / Gemini / Claude擇一\n",
    "* 環境變數需有GOOGLE_API_KEY"
   ]
  },
  {
   "cell_type": "code",
   "execution_count": null,
   "metadata": {},
   "outputs": [],
   "source": [
    "! pip install langchain_google_genai"
   ]
  },
  {
   "cell_type": "code",
   "execution_count": null,
   "metadata": {},
   "outputs": [],
   "source": [
    "#Initializing the language model with the Gemini model\n",
    "from langchain_google_genai import ChatGoogleGenerativeAI\n",
    "llm = ChatGoogleGenerativeAI(model=\"gemini-2.0-flash\")"
   ]
  },
  {
   "cell_type": "code",
   "execution_count": null,
   "metadata": {},
   "outputs": [],
   "source": [
    "from langchain_core.messages import HumanMessage\n",
    "llm.invoke([HumanMessage(content=\"hi\")])"
   ]
  },
  {
   "cell_type": "markdown",
   "metadata": {},
   "source": [
    "### 使用Claude語言模型\n",
    "* OpenAI / Gemini / Claude擇一\n",
    "* 環境變數需有ANTHROPIC_API_KEY"
   ]
  },
  {
   "cell_type": "code",
   "execution_count": null,
   "metadata": {},
   "outputs": [],
   "source": [
    "! pip install langchain_anthropic"
   ]
  },
  {
   "cell_type": "code",
   "execution_count": null,
   "metadata": {},
   "outputs": [],
   "source": [
    "#Initializing the language model with the Claude model\n",
    "from langchain_anthropic import ChatAnthropic\n",
    "llm = ChatAnthropic(model='claude-3-opus-20240229')"
   ]
  },
  {
   "cell_type": "code",
   "execution_count": null,
   "metadata": {},
   "outputs": [],
   "source": [
    "llm.invoke([HumanMessage(content=\"hi\")])"
   ]
  },
  {
   "cell_type": "markdown",
   "metadata": {},
   "source": [
    "# **Air Pollution Worker**\n",
    "建立專門查詢各縣市空氣品質的專家"
   ]
  },
  {
   "cell_type": "markdown",
   "metadata": {},
   "source": [
    "## 建立工具\n",
    "以Aralia地標的Share Link作為工具"
   ]
  },
  {
   "cell_type": "code",
   "execution_count": 7,
   "metadata": {},
   "outputs": [],
   "source": [
    "def air_pollution_search(city: str, date_from: str, date_end: str) -> str:\n",
    "    \"\"\"取得台灣某城市某時間區間的空氣污染指數\n",
    "    Args:\n",
    "        city: 縣市名稱 eg. 臺北市, 高雄市\n",
    "        date_from: 查詢起始日期 eg. 2023-01-01\n",
    "        date_end: 查詢結束日期 eg. 2023-01-31\n",
    "    \"\"\"\n",
    "    url = f\"https://tw-air.araliadata.io/api/public/share-link/kBUh4mdWi7S9FUW7GkYuiE/chart-data?value1={date_from}&value2={date_end}&value3={city}\"\n",
    "    headers = {\n",
    "        'Authorization': 'dpkey_924de2f995ff7d9b79e824284e6b56aa1256259daea8f6c736a4b6b4955ebc0e'\n",
    "    }\n",
    "    response = requests.request(\"GET\", url, headers=headers)\n",
    "    data = response.json()['data']['list']\n",
    "    result = \"\"\n",
    "    for i in data:\n",
    "        result += f\"{i['x0']}的AQI是{i['y0']}\\n\"\n",
    "    return result"
   ]
  },
  {
   "cell_type": "code",
   "execution_count": 8,
   "metadata": {},
   "outputs": [
    {
     "data": {
      "text/plain": [
       "'臺北市的AQI是59.1294964028777\\n'"
      ]
     },
     "execution_count": 8,
     "metadata": {},
     "output_type": "execute_result"
    }
   ],
   "source": [
    "# 測試tool\n",
    "air_pollution_search(\"臺北市\",\"2023-10-01\",\"2023-10-31\")"
   ]
  },
  {
   "cell_type": "markdown",
   "metadata": {},
   "source": [
    "## 建立Worker\n",
    "以Prompt的方式塑造此Worker的性格，同時賦予Worker工具"
   ]
  },
  {
   "cell_type": "code",
   "execution_count": 9,
   "metadata": {},
   "outputs": [],
   "source": [
    "# 讓LLM知道工具的使用方法\n",
    "air_pollution_tools = [air_pollution_search]\n",
    "llm_with_air_pollution_tools = llm.bind_tools(air_pollution_tools)"
   ]
  },
  {
   "cell_type": "code",
   "execution_count": 10,
   "metadata": {},
   "outputs": [],
   "source": [
    "# 撰寫Worker的System Prompt\n",
    "sys_msg = SystemMessage(content=\"你是空氣品質調查員。可以查詢台灣各縣市的空氣品質指數。如果您沒有確切的資訊，請委婉地回答自己沒辦法回答。\")\n",
    "def air_pollution_worker(state: MessagesState):\n",
    "    return {\"messages\": [llm_with_air_pollution_tools.invoke([sys_msg] + state[\"messages\"])]}"
   ]
  },
  {
   "cell_type": "markdown",
   "metadata": {},
   "source": [
    "## 建立Graph測試Worker\n",
    "* 將工具和Worker串連起來，並且用ReAct的方式，讓Worker可以使用多次工具，直到問題足夠被回答為止。\n",
    "* 這邊所串連起來的Graph只是作為測試用途，後面才會編排出最終的Graph(Langgraph沒有合併subgraph的功能)"
   ]
  },
  {
   "cell_type": "code",
   "execution_count": 11,
   "metadata": {},
   "outputs": [
    {
     "data": {
      "image/png": "[encoded data removed]",
      "text/plain": [
       "<IPython.core.display.Image object>"
      ]
     },
     "metadata": {},
     "output_type": "display_data"
    }
   ],
   "source": [
    "# Graph\n",
    "builder = StateGraph(MessagesState)\n",
    "\n",
    "# Add nodes\n",
    "builder.add_node(\"air_pollution_worker\", air_pollution_worker)\n",
    "builder.add_node(\"tools\", ToolNode(air_pollution_tools))\n",
    "\n",
    "# Add edges\n",
    "builder.add_edge(START, \"air_pollution_worker\")\n",
    "builder.add_conditional_edges(\n",
    "    \"air_pollution_worker\",\n",
    "    tools_condition,  # 用來判斷目前節點的輸出是否需要呼叫工具\n",
    ")\n",
    "builder.add_edge(\"tools\", \"air_pollution_worker\")  # 使用完工具回到Worker\n",
    "air_pollution_graph = builder.compile()\n",
    "\n",
    "# Display the graph\n",
    "display(Image(air_pollution_graph.get_graph(xray=True).draw_mermaid_png()))"
   ]
  },
  {
   "cell_type": "code",
   "execution_count": 12,
   "metadata": {},
   "outputs": [
    {
     "name": "stdout",
     "output_type": "stream",
     "text": [
      "================================\u001b[1m Human Message \u001b[0m=================================\n",
      "\n",
      "請查詢臺北市2023年10月的空氣污染指數\n",
      "==================================\u001b[1m Ai Message \u001b[0m==================================\n",
      "Tool Calls:\n",
      "  air_pollution_search (call_KZhwjhAdgIkjqhGYCdQD30VI)\n",
      " Call ID: call_KZhwjhAdgIkjqhGYCdQD30VI\n",
      "  Args:\n",
      "    city: 臺北市\n",
      "    date_from: 2023-10-01\n",
      "    date_end: 2023-10-31\n",
      "=================================\u001b[1m Tool Message \u001b[0m=================================\n",
      "Name: air_pollution_search\n",
      "\n",
      "臺北市的AQI是59.1294964028777\n",
      "\n",
      "==================================\u001b[1m Ai Message \u001b[0m==================================\n",
      "\n",
      "臺北市在2023年10月的空氣污染指數（AQI）為59.13，顯示空氣品質良好。\n"
     ]
    }
   ],
   "source": [
    "# 測試\n",
    "messages = [HumanMessage(content=\"請查詢臺北市2023年10月的空氣污染指數\")]\n",
    "messages = air_pollution_graph.invoke({\"messages\": messages})\n",
    "#Displaying the response\n",
    "for m in messages['messages']:\n",
    "    m.pretty_print()"
   ]
  },
  {
   "cell_type": "markdown",
   "metadata": {},
   "source": [
    "# **Traffic Worker**\n",
    "建立專門查詢交通事故的專家"
   ]
  },
  {
   "cell_type": "markdown",
   "metadata": {},
   "source": [
    "## 建立工具\n",
    "以Aralia地標的Share Link作為工具"
   ]
  },
  {
   "cell_type": "code",
   "execution_count": 13,
   "metadata": {},
   "outputs": [],
   "source": [
    "def traffic_acc_search(city: str, date_from: str, date_end: str) -> str:\n",
    "    \"\"\"取得台灣某城市某時間區間的各類別交通事故死亡及受傷人數\n",
    "    Args:\n",
    "        city: 縣市名稱 eg. 臺北市, 高雄市\n",
    "        date_from: 查詢起始日期 eg. 2023-01-01\n",
    "        date_end: 查詢結束日期 eg. 2023-01-31\n",
    "    \"\"\"\n",
    "    url = f\"https://tw-traffic.araliadata.io/api/public/share-link/ZTHqBMDofoYyJDsnWa5Lcj/chart-data?value1={date_from}&value2={date_end}&value3={city}\"\n",
    "    headers = {\n",
    "        'Authorization': 'dpkey_6c24200efc6813ee268ffa8aa00d2f8c66dd3d3a08d52c3f5915b0a024087106'\n",
    "    }\n",
    "    response = requests.request(\"GET\", url, headers=headers)\n",
    "    data = response.json()['data']['list']\n",
    "    result = \"\"\n",
    "    for i in data:\n",
    "        result += f\"{city}發生肇事因素「{i['x0']}」的死亡人數是{i['y0']}受傷人數是{i['y1']}\\n\"\n",
    "    return result"
   ]
  },
  {
   "cell_type": "code",
   "execution_count": 14,
   "metadata": {},
   "outputs": [
    {
     "data": {
      "text/plain": [
       "'臺北市發生肇事因素「未注意車前狀態」的死亡人數是96受傷人數是109\\n臺北市發生肇事因素「搶越行人穿越道」的死亡人數是66受傷人數是43\\n臺北市發生肇事因素「違反號誌管制或指揮」的死亡人數是59受傷人數是80\\n臺北市發生肇事因素「不明原因肇事」的死亡人數是39受傷人數是95\\n臺北市發生肇事因素「超速失控」的死亡人數是32受傷人數是39\\n臺北市發生肇事因素「未依規定讓車」的死亡人數是25受傷人數是33\\n臺北市發生肇事因素「其他引起事故之違規或不當行為」的死亡人數是22受傷人數是31\\n臺北市發生肇事因素「酒醉(後)駕駛失控」的死亡人數是18受傷人數是12\\n臺北市發生肇事因素「變換車道或方向不當」的死亡人數是14受傷人數是9\\n臺北市發生肇事因素「右轉彎未依規定」的死亡人數是11受傷人數是10\\n'"
      ]
     },
     "execution_count": 14,
     "metadata": {},
     "output_type": "execute_result"
    }
   ],
   "source": [
    "# 測試tool\n",
    "traffic_acc_search(\"臺北市\",\"2017-03-15\",\"2023-03-20\")"
   ]
  },
  {
   "cell_type": "markdown",
   "metadata": {},
   "source": [
    "## 建立Worker\n",
    "以Prompt的方式塑造此Worker的性格，同時賦予Worker工具"
   ]
  },
  {
   "cell_type": "code",
   "execution_count": 15,
   "metadata": {},
   "outputs": [],
   "source": [
    "# 讓LLM知道工具的使用方法\n",
    "traffic_tools = [traffic_acc_search]\n",
    "llm_with_traffic_tools = llm.bind_tools(traffic_tools)"
   ]
  },
  {
   "cell_type": "code",
   "execution_count": 16,
   "metadata": {},
   "outputs": [],
   "source": [
    "# 撰寫Worker的System Prompt\n",
    "sys_msg = SystemMessage(content=\"你是交通專家，可以查詢台灣各縣市的交通事故發生原因造成的死傷人數。請你回答本於數據回答，如果您沒有確切的資訊，請委婉地回答自己沒辦法回答。\")\n",
    "def traffic_worker(state: MessagesState):\n",
    "    return {\"messages\": [llm_with_traffic_tools.invoke([sys_msg] + state[\"messages\"])]}"
   ]
  },
  {
   "cell_type": "markdown",
   "metadata": {},
   "source": [
    "## 建立Graph測試Worker\n",
    "* 將工具和Worker串連起來，並且用ReAct的方式，讓Worker可以使用多次工具，直到問題足夠被回答為止。\n",
    "* 這邊所串連起來的Graph只是作為測試用途，後面才會編排出最終的Graph(Langgraph沒有合併subgraph的功能)"
   ]
  },
  {
   "cell_type": "code",
   "execution_count": 17,
   "metadata": {},
   "outputs": [
    {
     "data": {
      "image/png": "[encoded data removed]",
      "text/plain": [
       "<IPython.core.display.Image object>"
      ]
     },
     "metadata": {},
     "output_type": "display_data"
    }
   ],
   "source": [
    "# Graph\n",
    "builder = StateGraph(MessagesState)\n",
    "\n",
    "# Add nodes\n",
    "builder.add_node(\"traffic_worker\", traffic_worker)\n",
    "builder.add_node(\"tools\", ToolNode(traffic_tools))\n",
    "\n",
    "# Add edges\n",
    "builder.add_edge(START, \"traffic_worker\")\n",
    "builder.add_conditional_edges(\n",
    "    \"traffic_worker\",\n",
    "    tools_condition,  # 用來判斷目前節點的輸出是否需要呼叫工具\n",
    ")\n",
    "builder.add_edge(\"tools\", \"traffic_worker\")  # 使用完工具回到Worker\n",
    "air_pollution_graph = builder.compile()\n",
    "\n",
    "# Display the graph\n",
    "display(Image(air_pollution_graph.get_graph(xray=True).draw_mermaid_png()))\n"
   ]
  },
  {
   "cell_type": "code",
   "execution_count": 18,
   "metadata": {},
   "outputs": [
    {
     "name": "stdout",
     "output_type": "stream",
     "text": [
      "================================\u001b[1m Human Message \u001b[0m=================================\n",
      "\n",
      "2017年在新北市發生的交通事故死亡人數有多少？\n",
      "==================================\u001b[1m Ai Message \u001b[0m==================================\n",
      "Tool Calls:\n",
      "  traffic_acc_search (call_fPxym2jXFJrIvyvsItAQeYIT)\n",
      " Call ID: call_fPxym2jXFJrIvyvsItAQeYIT\n",
      "  Args:\n",
      "    city: 新北市\n",
      "    date_from: 2017-01-01\n",
      "    date_end: 2017-12-31\n",
      "=================================\u001b[1m Tool Message \u001b[0m=================================\n",
      "Name: traffic_acc_search\n",
      "\n",
      "新北市發生肇事因素「未注意車前狀態」的死亡人數是30受傷人數是50\n",
      "新北市發生肇事因素「未依規定減速」的死亡人數是17受傷人數是8\n",
      "新北市發生肇事因素「未依規定讓車」的死亡人數是13受傷人數是12\n",
      "新北市發生肇事因素「違反號誌管制或指揮」的死亡人數是9受傷人數是10\n",
      "新北市發生肇事因素「未依規定行走行人穿越道、地下道、天橋而穿越道路」的死亡人數是9受傷人數是9\n",
      "新北市發生肇事因素「違反特定標誌(線)禁制」的死亡人數是7受傷人數是11\n",
      "新北市發生肇事因素「酒醉(後)駕駛失控」的死亡人數是6受傷人數是26\n",
      "新北市發生肇事因素「變換車道或方向不當」的死亡人數是5受傷人數是3\n",
      "新北市發生肇事因素「左轉彎未依規定」的死亡人數是4受傷人數是12\n",
      "新北市發生肇事因素「超速失控」的死亡人數是4受傷人數是8\n",
      "\n",
      "==================================\u001b[1m Ai Message \u001b[0m==================================\n",
      "\n",
      "在2017年，新北市的交通事故死亡人數總計為多項肇事因素的合計，具體如下：\n",
      "\n",
      "- 未注意車前狀態：30人\n",
      "- 未依規定減速：17人\n",
      "- 未依規定讓車：13人\n",
      "- 違反號誌管制或指揮：9人\n",
      "- 未依規定行走行人穿越道、地下道、天橋而穿越道路：9人\n",
      "- 違反特定標誌(線)禁制：7人\n",
      "- 酒醉(後)駕駛失控：6人\n",
      "- 變換車道或方向不當：5人\n",
      "- 左轉彎未依規定：4人\n",
      "- 超速失控：4人\n",
      "\n",
      "綜合以上，2017年在新北市的交通事故死亡人數總計為**小於 100 人 **。\n"
     ]
    }
   ],
   "source": [
    "# 測試\n",
    "messages = [HumanMessage(content=\"2017年在新北市發生的交通事故死亡人數有多少？\")]\n",
    "messages = air_pollution_graph.invoke({\"messages\": messages})\n",
    "#Displaying the response\n",
    "for m in messages['messages']:\n",
    "    m.pretty_print()"
   ]
  },
  {
   "cell_type": "markdown",
   "metadata": {},
   "source": [
    "# **Multi-agent**\n",
    "使用一個supervisor負責分流使用者的問題給不同的worker進行處理"
   ]
  },
  {
   "cell_type": "markdown",
   "metadata": {},
   "source": [
    "## 定義Supervisor Node"
   ]
  },
  {
   "cell_type": "code",
   "execution_count": 19,
   "metadata": {},
   "outputs": [],
   "source": [
    "supervisor_sys_msg = SystemMessage(content=\"\"\"\n",
    "你是Supervisor，負責依據使用者需求判斷要呼叫哪個 Worker。\n",
    "若與空氣品質相關，回傳 'Worker: air_pollution_worker'\n",
    "若與交通事故相關，回傳 'Worker: traffic_worker'\n",
    "否則請委婉回答使用者，你並沒有回答的能力。'\n",
    "\"\"\")\n",
    "\n",
    "def supervisor(state: MessagesState):\n",
    "\n",
    "    messages = [supervisor_sys_msg] + state[\"messages\"]\n",
    "    result = llm.invoke(messages)\n",
    "    return {\"messages\": [result]}"
   ]
  },
  {
   "cell_type": "code",
   "execution_count": 20,
   "metadata": {},
   "outputs": [
    {
     "data": {
      "text/plain": [
       "'Worker: air_pollution_worker'"
      ]
     },
     "execution_count": 20,
     "metadata": {},
     "output_type": "execute_result"
    }
   ],
   "source": [
    "# 測試\n",
    "messages = [HumanMessage(content=\"請查詢臺北市2023年10月的空氣污染指數\")]\n",
    "supervisor({\"messages\": messages})[\"messages\"][0].content\n"
   ]
  },
  {
   "cell_type": "markdown",
   "metadata": {},
   "source": [
    "## 最終的Graph"
   ]
  },
  {
   "cell_type": "code",
   "execution_count": 21,
   "metadata": {},
   "outputs": [
    {
     "data": {
      "image/png": "[encoded data removed]",
      "text/plain": [
       "<IPython.core.display.Image object>"
      ]
     },
     "metadata": {},
     "output_type": "display_data"
    }
   ],
   "source": [
    "def route_on_worker(state):\n",
    "    \"\"\"根據最後一則訊息決定要派給哪個 worker\"\"\"\n",
    "    last_msg = state[\"messages\"][-1]\n",
    "    content = last_msg.content if hasattr(last_msg, \"content\") else str(last_msg)\n",
    "\n",
    "    if content == \"Worker: air_pollution_worker\":\n",
    "        return \"air_pollution_worker\"\n",
    "    elif content == \"Worker: traffic_worker\":\n",
    "        return \"traffic_worker\"\n",
    "    else:\n",
    "        return \"END\"\n",
    "    \n",
    "\n",
    "def route_on_tools(state):\n",
    "    \"\"\"根據最後一則 AI 訊息判斷是否有要使用工具\"\"\"\n",
    "    last_msg = state[\"messages\"][-1]\n",
    "    \n",
    "    if hasattr(last_msg, \"tool_calls\") and last_msg.tool_calls:\n",
    "        return \"TOOL\"\n",
    "    else:\n",
    "        return \"END\"\n",
    "\n",
    "\n",
    "\n",
    "\n",
    "builder = StateGraph(MessagesState)\n",
    "\n",
    "# == Nodes ==\n",
    "builder.add_node(\"supervisor\", supervisor)\n",
    "builder.add_node(\"air_pollution_worker\", air_pollution_worker)\n",
    "builder.add_node(\"air_pollution_tools\", ToolNode(air_pollution_tools))\n",
    "builder.add_node(\"traffic_worker\", traffic_worker)\n",
    "builder.add_node(\"traffic_tools\", ToolNode(traffic_tools))\n",
    "\n",
    "\n",
    "\n",
    "# == Edges ==\n",
    "# START -> supervisor\n",
    "builder.add_edge(START, \"supervisor\")\n",
    "\n",
    "\n",
    "\n",
    "# supervisor -> air_pollution_worker / traffic_worker\n",
    "builder.add_conditional_edges(\n",
    "    \"supervisor\",\n",
    "    route_on_worker,\n",
    "    { \"air_pollution_worker\": \"air_pollution_worker\", \"traffic_worker\": \"traffic_worker\",\"END\": END }\n",
    ")\n",
    "\n",
    "\n",
    "\n",
    "# supervisor <- air_pollution_worker <-> air_pollution_tools\n",
    "# builder.add_conditional_edges(\"air_pollution_worker\", tools_condition, [\"air_pollution_tools\", \"supervisor\"])\n",
    "builder.add_conditional_edges(\n",
    "    \"air_pollution_worker\", \n",
    "    route_on_tools,\n",
    "    { \"TOOL\": \"air_pollution_tools\", \"END\": \"supervisor\" }   \n",
    ")\n",
    "builder.add_edge(\"air_pollution_tools\", \"air_pollution_worker\")\n",
    "\n",
    "\n",
    "# supervisor <- traffic_worker <-> traffic_tools\n",
    "# builder.add_conditional_edges(\"traffic_worker\", tools_condition, [\"traffic_tools\", \"supervisor\"])\n",
    "builder.add_conditional_edges(\n",
    "    \"traffic_worker\", \n",
    "    route_on_tools,\n",
    "    { \"TOOL\": \"traffic_tools\", \"END\": \"supervisor\" }   \n",
    ")\n",
    "builder.add_edge(\"traffic_tools\", \"traffic_worker\")\n",
    "\n",
    "\n",
    "# compile\n",
    "multi_graph = builder.compile()\n",
    "\n",
    "# Display the graph\n",
    "display(Image(multi_graph.get_graph(xray=True).draw_mermaid_png()))\n",
    "\n"
   ]
  },
  {
   "cell_type": "code",
   "execution_count": 22,
   "metadata": {},
   "outputs": [
    {
     "name": "stdout",
     "output_type": "stream",
     "text": [
      "================================\u001b[1m Human Message \u001b[0m=================================\n",
      "\n",
      "請查詢臺北市2023年10月的空氣污染指數\n",
      "==================================\u001b[1m Ai Message \u001b[0m==================================\n",
      "\n",
      "Worker: air_pollution_worker\n",
      "==================================\u001b[1m Ai Message \u001b[0m==================================\n",
      "Tool Calls:\n",
      "  air_pollution_search (call_oMso9XiWDvdrdxvbnK805q9A)\n",
      " Call ID: call_oMso9XiWDvdrdxvbnK805q9A\n",
      "  Args:\n",
      "    city: 臺北市\n",
      "    date_from: 2023-10-01\n",
      "    date_end: 2023-10-31\n",
      "=================================\u001b[1m Tool Message \u001b[0m=================================\n",
      "Name: air_pollution_search\n",
      "\n",
      "臺北市的AQI是59.1294964028777\n",
      "\n",
      "==================================\u001b[1m Ai Message \u001b[0m==================================\n",
      "\n",
      "臺北市2023年10月的空氣污染指數(AQI)為59.13。這個數值表示空氣品質良好。\n",
      "==================================\u001b[1m Ai Message \u001b[0m==================================\n",
      "\n",
      "請問有其他問題需要幫忙嗎？\n"
     ]
    }
   ],
   "source": [
    "# 測試\n",
    "messages = [HumanMessage(content=\"請查詢臺北市2023年10月的空氣污染指數\")]\n",
    "messages = multi_graph.invoke({\"messages\": messages})\n",
    "#Displaying the response\n",
    "for m in messages['messages']:\n",
    "    m.pretty_print()"
   ]
  }
 ],
 "metadata": {
  "kernelspec": {
   "display_name": "Python 3",
   "language": "python",
   "name": "python3"
  },
  "language_info": {
   "codemirror_mode": {
    "name": "ipython",
    "version": 3
   },
   "file_extension": ".py",
   "mimetype": "text/x-python",
   "name": "python",
   "nbconvert_exporter": "python",
   "pygments_lexer": "ipython3",
   "version": "3.13.1"
  }
 },
 "nbformat": 4,
 "nbformat_minor": 2
}
